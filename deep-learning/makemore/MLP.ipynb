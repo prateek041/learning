{
 "cells": [
  {
   "cell_type": "markdown",
   "id": "91eaa38a-7cfa-48ed-8f4f-0bd8a24b2723",
   "metadata": {},
   "source": [
    "# Multi Layer Perceptron\n",
    "\n",
    "Represent the words (characters in our case) in a multi-dimensional vector space and then use Forward pass + Backward pass to move the vectors around in that multi-dimensional space, so that words that often appear together in our training set end up being close to each other."
   ]
  },
  {
   "cell_type": "code",
   "execution_count": null,
   "id": "7be871c7-e8a3-4aea-80f2-42174477c30e",
   "metadata": {},
   "outputs": [],
   "source": [
    " "
   ]
  }
 ],
 "metadata": {
  "kernelspec": {
   "display_name": "Python 3 (ipykernel)",
   "language": "python",
   "name": "python3"
  },
  "language_info": {
   "codemirror_mode": {
    "name": "ipython",
    "version": 3
   },
   "file_extension": ".py",
   "mimetype": "text/x-python",
   "name": "python",
   "nbconvert_exporter": "python",
   "pygments_lexer": "ipython3",
   "version": "3.12.8"
  }
 },
 "nbformat": 4,
 "nbformat_minor": 5
}
